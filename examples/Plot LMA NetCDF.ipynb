{
 "metadata": {
  "name": "",
  "signature": "sha256:fe8698de357a2436dd4774628d6689a428717a727148383f5f13a49514393a5e"
 },
 "nbformat": 3,
 "nbformat_minor": 0,
 "worksheets": [
  {
   "cells": [
    {
     "cell_type": "heading",
     "level": 3,
     "metadata": {},
     "source": [
      "Creating an animation from lmatools NetCDF grid files"
     ]
    },
    {
     "cell_type": "code",
     "collapsed": false,
     "input": [
      "import glob\n",
      "filenames=glob.glob('/data/20120529/flash_sort_prelim/grid_files/2012/May/29/OKLMA_20120529_2[1-3]*_flash_extent.nc')\n",
      "filenames+=glob.glob('/data/20120529/flash_sort_prelim/grid_files/2012/May/30/OKLMA_20120530_0[0-4]*_flash_extent.nc')\n",
      "# filenames=glob.glob('/data/20120529/flash_sort_prelim/grid_files/2012/May/29/OKLMA_20120529_000000_3600_10src_0.0330deg-dx_flash_extent.nc')"
     ],
     "language": "python",
     "metadata": {},
     "outputs": [],
     "prompt_number": 4
    },
    {
     "cell_type": "code",
     "collapsed": false,
     "input": [
      "save_files = False\n",
      "if save_files:\n",
      "    import matplotlib\n",
      "    matplotlib.use('Agg')\n",
      "else:\n",
      "    %pylab"
     ],
     "language": "python",
     "metadata": {},
     "outputs": [
      {
       "output_type": "stream",
       "stream": "stdout",
       "text": [
        "Using matplotlib backend: Qt4Agg\n",
        "Populating the interactive namespace from numpy and matplotlib\n"
       ]
      }
     ],
     "prompt_number": 1
    },
    {
     "cell_type": "code",
     "collapsed": false,
     "input": [
      "import numpy as np\n",
      "from datetime import datetime, timedelta\n",
      "from lmatools.multiples_nc import centers_to_edges\n",
      "import pupynere as nc\n",
      "import itertools\n",
      "        \n",
      "from lmatools.grid_collection import LMAgridFileCollection"
     ],
     "language": "python",
     "metadata": {},
     "outputs": [],
     "prompt_number": 2
    },
    {
     "cell_type": "code",
     "collapsed": false,
     "input": [
      "\"\"\"\n",
      "Here we will provide a class to accept a file collection object\n",
      "and produce a series of plots, one per time frame.\n",
      "\n",
      "As a matplotlib animation object?\n",
      "\"\"\"\n",
      "def update_pcolor(pcolor, x, y, C):\n",
      "    \"\"\"updates coordinates and scalar data for a pcolormesh plot\n",
      "    \n",
      "       basically a hybrid of matplotlib.axes.Axes.pcolormesh and matplotlib.collections.QuadMesh\n",
      "       \n",
      "       # Tests that updated pcolormesh is equivalent to creating a new pcolormesh\n",
      "       import matplotlib.pyplot as plt\n",
      "       from acuity.MPLutils.managerhelpers import update_pcolor\n",
      "       import numpy as np\n",
      "\n",
      "       x = np.arange(10)\n",
      "       y = np.arange(10)\n",
      "\n",
      "       x, y = np.meshgrid(x,y)\n",
      "       z=x*y\n",
      "\n",
      "       pc = plt.pcolormesh(x,y,z, shading='flat')\n",
      "\n",
      "       plt.show()\n",
      "\n",
      "       # x += 5\n",
      "       # y += 5\n",
      "       # z = z**2.0\n",
      "       x2 = x[:-5,:]\n",
      "       y2 = y[:-5,:]\n",
      "       z2 = z[:-5,:]\n",
      "\n",
      "       update_pcolor(pc,x2,y2,z2)\n",
      "\n",
      "       if True:\n",
      "           pc2 = plt.pcolormesh(x2,y2,z2, shading='flat')\n",
      "\n",
      "           print 'Comparing attrs in pc2'\n",
      "           for key in pc2.__dict__:\n",
      "               if np.asarray(pc2.__dict__[key] != pc.__dict__[key]).all(): print key\n",
      "\n",
      "           print '------------------------'\n",
      "           print 'Comparing attrs in pc'\n",
      "           for key in pc.__dict__:\n",
      "               if np.asarray(pc2.__dict__[key] != pc.__dict__[key]).all(): print key\n",
      "\n",
      "\n",
      "       plt.draw()\n",
      "       \n",
      "    \"\"\"\n",
      "    import matplotlib.transforms as transforms\n",
      "    from matplotlib.collections import QuadMesh\n",
      "    assert isinstance(pcolor, QuadMesh)\n",
      "\n",
      "    # Axes.pcolormesh.__init__()\n",
      "    Ny, Nx = x.shape\n",
      "    coords = np.zeros(((Nx * Ny), 2), dtype=float)\n",
      "    \n",
      "    # no effort made to handle masked arrays here\n",
      "    C = np.ravel(C[0:Ny-1, 0:Nx-1])\n",
      "    coords[:, 0] = x.ravel()\n",
      "    coords[:, 1] = y.ravel()\n",
      "    \n",
      "    # QuadMesh.__init__()\n",
      "    pcolor._meshWidth = Nx-1\n",
      "    pcolor._meshHeight = Ny-1\n",
      "\n",
      "    pcolor._bbox = transforms.Bbox.unit()\n",
      "    pcolor._bbox.update_from_data_xy(coords.reshape(\n",
      "            (Nx * Ny, 2)))\n",
      "    \n",
      "    coords=coords.reshape((Ny, Nx, 2))\n",
      "    pcolor._coordinates = coords\n",
      "    # end quadmesh init\n",
      "        \n",
      "    if pcolor.get_array() != None:\n",
      "        pcolor.set_array(C)\n",
      "    \n",
      "    \n",
      "class GridAnimation(object):\n",
      "    def __init__(self, gridcollection, vmin, vmax, ax=None, titler=None, grid_label='Data', log=False):\n",
      "        \"\"\" gridcollection is an iterable that yields \n",
      "            t, xedge, yedge, density\n",
      "            where t is a datetime object, and xedge, yedge, and density\n",
      "            are ready for use in pcolormesh.\n",
      "            \n",
      "            The optional titler function accepts a datetime object for the current frame,\n",
      "            and should return the title to be set on the axes for each frame.\n",
      "            \n",
      "            If ax is not passed in, a new figure with a single set of axes \n",
      "            will be created along with a colorbar.\n",
      "            \n",
      "            The class can used as follows, for an instance of this class a:\n",
      "            matplotlib.animation.FuncAnimation(a.ax.figure, a.animate, frames=a.framer, \n",
      "                         init_func=a.setup, interval=20, blit=True)\n",
      "\n",
      "            \n",
      "        \"\"\"\n",
      "        self.gridcollection = gridcollection\n",
      "        \n",
      "        if titler is None:\n",
      "            self.titler = self.title_default\n",
      "        else:\n",
      "            self.titler = titler\n",
      "            \n",
      "        self.grid_label = grid_label\n",
      "        \n",
      "        if ax is not None:\n",
      "            self.ax = axes\n",
      "        else:\n",
      "            import matplotlib.pyplot as plt\n",
      "            from matplotlib.cm import get_cmap\n",
      "            from matplotlib.colors import LogNorm, Normalize\n",
      "            from matplotlib.colorbar import ColorbarBase, make_axes\n",
      "            fig = plt.figure()\n",
      "            self.ax = fig.add_subplot(1,1,1)\n",
      "            cbar_ax, cbar_kw = make_axes(self.ax)\n",
      "            self.cbar_ax = cbar_ax\n",
      "            if log:\n",
      "                self.norm = LogNorm(vmin=vmin, vmax=vmax)\n",
      "            else:\n",
      "                self.norm = Normalize(vmin=vmin, vmax=vmax)\n",
      "            cbar_kw['norm'] = self.norm\n",
      "            self.cmap = get_cmap('gist_earth')\n",
      "            cbar_kw['cmap'] = self.cmap\n",
      "            \n",
      "            self.cbar = ColorbarBase(self.cbar_ax, **cbar_kw)\n",
      "            self.cbar.set_label(self.grid_label)\n",
      "    \n",
      "    def title_default(self, t):\n",
      "        return \"{0}\".format(t)\n",
      "    \n",
      "    def setup(self):\n",
      "        title_art = self.ax.set_title('')\n",
      "        print title_art\n",
      "        x, y = np.meshgrid(np.array([0,1]),\n",
      "                           np.array([0,1]))\n",
      "        c = np.ones((1,1))\n",
      "        self.pc = self.ax.pcolormesh(x,y,c, cmap=self.cmap, norm=self.norm)\n",
      "        return self.pc, title_art\n",
      "    \n",
      "    def animate(self, payload):        \n",
      "        t, xedge, yedge, data = payload\n",
      "        x,y = np.meshgrid(xedge, yedge)\n",
      "        update_pcolor(self.pc, x,y,data)\n",
      "        title_art = self.ax.set_title(self.titler(t))\n",
      "        return self.pc, title_art\n",
      "\n",
      "    def framer(self):\n",
      "        for a in self.gridcollection:\n",
      "            yield a\n",
      "\n",
      "#         self.area_range = (0.0, 100000.0)\n",
      "#         self.rate_range = (0, 10000)\n",
      "#         self.source_range = (0, 100000)\n",
      "#         self.init_range = (0,100)\n"
     ],
     "language": "python",
     "metadata": {},
     "outputs": [],
     "prompt_number": 3
    },
    {
     "cell_type": "code",
     "collapsed": false,
     "input": [
      "NCs = LMAgridFileCollection(filenames, 'flash_extent', x_name='longitude', y_name='latitude')"
     ],
     "language": "python",
     "metadata": {},
     "outputs": [],
     "prompt_number": 5
    },
    {
     "cell_type": "code",
     "collapsed": false,
     "input": [
      "GA = GridAnimation(NCs, 1, 1000, ax=None, titler=None, grid_label='Flashes per pixel', log=True)\n"
     ],
     "language": "python",
     "metadata": {},
     "outputs": [],
     "prompt_number": 6
    },
    {
     "cell_type": "code",
     "collapsed": false,
     "input": [
      "t  = datetime(2012,5,30,00,30,0)\n",
      "xedge, yedge, data = NCs.data_for_time(t)\n",
      "print xedge.min(), yedge.min()"
     ],
     "language": "python",
     "metadata": {},
     "outputs": [
      {
       "output_type": "stream",
       "stream": "stdout",
       "text": [
        "-101.215401806 33.0257781261\n"
       ]
      }
     ],
     "prompt_number": 7
    },
    {
     "cell_type": "code",
     "collapsed": false,
     "input": [
      "#GA.ax.axis((xedge.min(), xedge.max(), yedge.min(), yedge.max()))\n",
      "GA.ax.axis((-100.0, -96, 33.0, 37.0))\n",
      "from matplotlib.animation import FuncAnimation\n",
      "FA = FuncAnimation(GA.ax.figure, GA.animate, frames=GA.framer, \n",
      "                         init_func=GA.setup, interval=100.0, blit=True)\n"
     ],
     "language": "python",
     "metadata": {},
     "outputs": [
      {
       "output_type": "stream",
       "stream": "stdout",
       "text": [
        "Text(0.5,1,'')\n"
       ]
      }
     ],
     "prompt_number": 8
    },
    {
     "cell_type": "code",
     "collapsed": false,
     "input": [
      "if save_files:\n",
      "    # It's not clear that the anim's save function knows to save the right number of frames.\n",
      "    # Sometimes, for short animations, it seems to start resaving frames.\n",
      "    import matplotlib.animation as anim\n",
      "    anim.writers.list()\n",
      "    FA.save('0529-0530.png', writer='imagemagick_file')#, clear_temp=False)\n",
      "else:\n",
      "    # FIXME: Blitting of the title artist isn't working right. \n",
      "    # Is the text object being recreated each time?\n",
      "    # If so, try changing the text artist instead of recreating new text with set_title?\n",
      "    from matplotlib.pyplot import show\n",
      "    show()"
     ],
     "language": "python",
     "metadata": {},
     "outputs": [],
     "prompt_number": 10
    },
    {
     "cell_type": "code",
     "collapsed": false,
     "input": [],
     "language": "python",
     "metadata": {},
     "outputs": []
    },
    {
     "cell_type": "code",
     "collapsed": false,
     "input": [],
     "language": "python",
     "metadata": {},
     "outputs": []
    },
    {
     "cell_type": "code",
     "collapsed": false,
     "input": [],
     "language": "python",
     "metadata": {},
     "outputs": []
    }
   ],
   "metadata": {}
  }
 ]
}