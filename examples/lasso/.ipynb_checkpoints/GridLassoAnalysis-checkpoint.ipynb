{
 "cells": [
  {
   "cell_type": "markdown",
   "metadata": {},
   "source": [
    "Set the log path variable below to a valid path and your choice of filename.\n",
    "\n",
    "The only other configuration needed is to choose the sample data file and corresponding field name to use if you don't want to analyze cells based on flash extent density."
   ]
  },
  {
   "cell_type": "code",
   "execution_count": 1,
   "metadata": {
    "collapsed": false
   },
   "outputs": [],
   "source": [
    "log_path = '/Users/ebruning/Desktop/YW-NCGridLassoLog.txt'"
   ]
  },
  {
   "cell_type": "code",
   "execution_count": 2,
   "metadata": {
    "collapsed": false
   },
   "outputs": [],
   "source": [
    "import os, glob\n",
    "import tables, pandas\n",
    "import numpy as np\n",
    "\n",
    "import warnings\n",
    "# warnings.filterwarnings('ignore')\n",
    "warnings.filterwarnings('ignore', category=DeprecationWarning, module='.*/IPython/.*')"
   ]
  },
  {
   "cell_type": "code",
   "execution_count": 3,
   "metadata": {
    "collapsed": false
   },
   "outputs": [
    {
     "name": "stderr",
     "output_type": "stream",
     "text": [
      "/Users/ebruning/anaconda/lib/python2.7/site-packages/matplotlib/font_manager.py:273: UserWarning: Matplotlib is building the font cache using fc-list. This may take a moment.\n",
      "  warnings.warn('Matplotlib is building the font cache using fc-list. This may take a moment.')\n"
     ]
    }
   ],
   "source": [
    "%matplotlib qt4\n",
    "import matplotlib.pyplot as plt"
   ]
  },
  {
   "cell_type": "code",
   "execution_count": 4,
   "metadata": {
    "collapsed": false
   },
   "outputs": [
    {
     "name": "stdout",
     "output_type": "stream",
     "text": [
      "projection not found, assuming lat, lon grid\n"
     ]
    },
    {
     "name": "stderr",
     "output_type": "stream",
     "text": [
      "/Users/ebruning/anaconda/lib/python2.7/site-packages/scipy/io/netcdf.py:297: RuntimeWarning: Cannot close a netcdf_file opened with mmap=True, when netcdf_variables or arrays referring to its data still exist. All data arrays obtained from such files refer directly to data on disk, and must be copied before the file can be cleanly closed. (See netcdf_file docstring for more information on mmap.)\n",
      "  ), category=RuntimeWarning)\n"
     ]
    }
   ],
   "source": [
    "from lmatools.grid.grid_collection import LMAgridFileCollection\n",
    "\n",
    "def get_sample_data_path():\n",
    "    import lmatools.sampledata\n",
    "    data_path = os.path.abspath(lmatools.sampledata.__path__[0])\n",
    "    folder = 'flashsort-solution' #inside data_path\n",
    "    path = os.path.join(data_path, folder)\n",
    "    return path\n",
    "    \n",
    "#\"/path/to/lmatools/testing/flashsort-solution\"\n",
    "results_dir = get_sample_data_path()\n",
    "\n",
    "nc_filenames=glob.glob(os.path.join(results_dir, \"grid_files/2014/May/26/*_flash_extent.nc\"))\n",
    "nc_field = 'flash_extent'\n",
    "\n",
    "# print nc_filenames\n",
    "NCs = LMAgridFileCollection(nc_filenames, nc_field, x_name='longitude', y_name='latitude')\n",
    "geosys, mapproj = NCs.get_projection()"
   ]
  },
  {
   "cell_type": "code",
   "execution_count": 5,
   "metadata": {
    "collapsed": false
   },
   "outputs": [],
   "source": [
    "# This cell is not necessary for the lasso analysis, but shows how\n",
    "# one might overlay additional data on the plot in order to guide \n",
    "# the lasso analyses - in this case, which cell was being sampled by\n",
    "# two radars scanning in RHI mode?\n",
    "\n",
    "ka1_loc = -102.13410, 33.30546, 1004.0\n",
    "ka2_loc = -102.09339, 33.40950, 1018.0\n",
    "ka1_az = 180. + 163. - 360.0\n",
    "ka2_az = 0. + 249.\n",
    "radar_dist = 20.0e3\n",
    "\n",
    "ka1_dx = radar_dist * np.cos(np.deg2rad(90.0-ka1_az))\n",
    "ka1_dy = radar_dist * np.sin(np.deg2rad(90.0-ka1_az))\n",
    "ka2_dx = radar_dist * np.cos(np.deg2rad(90.0-ka2_az))\n",
    "ka2_dy = radar_dist * np.sin(np.deg2rad(90.0-ka2_az))\n",
    "\n",
    "ka1_xyz = mapproj.fromECEF(*geosys.toECEF(*ka1_loc))\n",
    "ka2_xyz = mapproj.fromECEF(*geosys.toECEF(*ka2_loc))\n",
    "\n",
    "ka1_radial = [[ka1_xyz[0], ka1_xyz[0]+ka1_dx], \n",
    "              [ka1_xyz[1], ka1_xyz[1]+ka1_dy]\n",
    "             ]\n",
    "ka2_radial = [[ka2_xyz[0], ka2_xyz[0]+ka2_dx], \n",
    "              [ka2_xyz[1], ka2_xyz[1]+ka2_dy]\n",
    "             ]\n",
    "\n",
    "def plot_ka(lasso_widget, ax):\n",
    "    ax.plot(ka1_radial[0], ka1_radial[1], 'k')\n",
    "    ax.annotate('Ka1', xy=(ka1_radial[0][0], ka1_radial[1][0]))\n",
    "    ax.plot(ka2_radial[0], ka2_radial[1], 'k')\n",
    "    ax.annotate('Ka2', xy=(ka2_radial[0][0], ka2_radial[1][0]))\n",
    "    ax.axis((-75e3, 0e3, -75e3, 0e3))\n",
    "    ax.tick_params(axis='both', labelsize=12)\n"
   ]
  },
  {
   "cell_type": "code",
   "execution_count": null,
   "metadata": {
    "collapsed": false
   },
   "outputs": [],
   "source": []
  },
  {
   "cell_type": "markdown",
   "metadata": {},
   "source": [
    "## Interactive lasso widget"
   ]
  },
  {
   "cell_type": "code",
   "execution_count": 6,
   "metadata": {
    "collapsed": false
   },
   "outputs": [],
   "source": [
    "# from ipywidgets import interactive\n",
    "from IPython.display import display"
   ]
  },
  {
   "cell_type": "code",
   "execution_count": 7,
   "metadata": {
    "collapsed": false,
    "scrolled": false
   },
   "outputs": [
    {
     "name": "stdout",
     "output_type": "stream",
     "text": [
      "releasing lock\n",
      "projection not found, assuming lat, lon grid\n"
     ]
    },
    {
     "name": "stderr",
     "output_type": "stream",
     "text": [
      "INFO:GridLassoTools.Poly:{\"field\": \"flash_extent\", \"lon_verts\": [-103.20161290322581, -102.74193548387098, -101.24193548387098, -99.83064516129033, -101.04032258064517, -102.63709677419355, -103.20161290322581], \"x_verts\": [-103.20161290322581, -102.74193548387098, -101.24193548387098, -99.83064516129033, -101.04032258064517, -102.63709677419355, -103.20161290322581], \"title\": \"Lasso Verts\", \"y_verts\": [34.339285714285715, 33.125, 33.089285714285715, 33.910714285714285, 35.125, 34.80357142857143, 34.339285714285715], \"frame_time\": \"2014-05-26T09:52:00\", \"filename\": \"/Users/ebruning/code/lmatools/sampledata/flashsort-solution/grid_files/2014/May/26/WTLMA_20140526_095000_600_10src_0.0323deg-dx_flash_extent.nc\", \"frame_id\": 6, \"lat_verts\": [34.339285714285715, 33.125, 33.089285714285715, 33.910714285714285, 35.12500000000001, 34.80357142857144, 34.339285714285715]}\n"
     ]
    }
   ],
   "source": [
    "from GridLassoTools import NCgridLasso, NCgridLassoWidgets\n",
    "nclasso = NCgridLasso(NCs, log_path=log_path)\n",
    "widget = NCgridLassoWidgets(nclasso) #, overplot_func = plot_ka)\n",
    "display(widget.container)"
   ]
  },
  {
   "cell_type": "code",
   "execution_count": null,
   "metadata": {
    "collapsed": true
   },
   "outputs": [],
   "source": []
  }
 ],
 "metadata": {
  "kernelspec": {
   "display_name": "Python 2",
   "language": "python",
   "name": "python2"
  },
  "language_info": {
   "codemirror_mode": {
    "name": "ipython",
    "version": 2
   },
   "file_extension": ".py",
   "mimetype": "text/x-python",
   "name": "python",
   "nbconvert_exporter": "python",
   "pygments_lexer": "ipython2",
   "version": "2.7.12"
  },
  "widgets": {
   "state": {
    "baee83b752ed4b1d8cbf0868bf846ff5": {
     "views": [
      {
       "cell_index": 8
      }
     ]
    }
   },
   "version": "1.2.0"
  }
 },
 "nbformat": 4,
 "nbformat_minor": 0
}
